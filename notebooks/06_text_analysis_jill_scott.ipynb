{
 "cells": [
  {
   "cell_type": "markdown",
   "id": "c97f9ba2",
   "metadata": {},
   "source": [
    "# Text Analysis of Jill Scott Lyrics"
   ]
  },
  {
   "cell_type": "markdown",
   "id": "9c027f7d",
   "metadata": {},
   "source": [
    "## Overview\n",
    "\n",
    "In this notebook, we’ll perform basic text analysis on a snippet of lyrics from a Jill Scott song. This is a great demonstration of how Jupyter Notebooks can be used to explore creative texts, such as music or poetry, using Python.\n",
    "\n",
    "### Learning Objectives\n",
    "\n",
    "- Tokenize and clean text\n",
    "- Count word frequency\n",
    "- Group and categorize words based on themes\n",
    "- Visualize frequent words\n"
   ]
  },
  {
   "cell_type": "markdown",
   "id": "65be03e8",
   "metadata": {},
   "source": [
    "## Step 1: Load and View the Lyrics"
   ]
  },
  {
   "cell_type": "code",
   "execution_count": null,
   "id": "d9faa9f6",
   "metadata": {},
   "outputs": [],
   "source": [
    "lyrics = \"\"\"You had me at hello\n",
    "I loved you from the start\n",
    "You gave me butterflies, something in my heart\n",
    "But then you changed\n",
    "And now I'm left to rearrange\n",
    "\"\"\"\n",
    "print(lyrics)\n"
   ]
  },
  {
   "cell_type": "markdown",
   "id": "d4ad981f",
   "metadata": {},
   "source": [
    "## Step 2: Basic Cleanup and Tokenization"
   ]
  },
  {
   "cell_type": "code",
   "execution_count": null,
   "id": "0dd1258a",
   "metadata": {},
   "outputs": [],
   "source": [
    "import re\n",
    "\n",
    "# Convert to lowercase and remove punctuation\n",
    "cleaned = re.sub(r\"[^\\w\\s]\", \"\", lyrics.lower())\n",
    "words = cleaned.split()\n",
    "print(words)\n"
   ]
  },
  {
   "cell_type": "markdown",
   "id": "18b1a614",
   "metadata": {},
   "source": [
    "## Step 3: Word Frequency Analysis"
   ]
  },
  {
   "cell_type": "code",
   "execution_count": null,
   "id": "3a35ee96",
   "metadata": {},
   "outputs": [],
   "source": [
    "from collections import Counter\n",
    "\n",
    "word_counts = Counter(words)\n",
    "word_counts.most_common(10)\n"
   ]
  },
  {
   "cell_type": "markdown",
   "id": "2bd00520",
   "metadata": {},
   "source": [
    "## Step 4: Grouping by Theme (Example Categories)"
   ]
  },
  {
   "cell_type": "code",
   "execution_count": null,
   "id": "60ff0f6b",
   "metadata": {},
   "outputs": [],
   "source": [
    "love_words = {\"love\", \"heart\", \"butterflies\"}\n",
    "change_words = {\"changed\", \"rearrange\"}\n",
    "\n",
    "categorized = {\"love\": 0, \"change\": 0, \"other\": 0}\n",
    "for word in words:\n",
    "    if word in love_words:\n",
    "        categorized[\"love\"] += 1\n",
    "    elif word in change_words:\n",
    "        categorized[\"change\"] += 1\n",
    "    else:\n",
    "        categorized[\"other\"] += 1\n",
    "\n",
    "categorized\n"
   ]
  },
  {
   "cell_type": "markdown",
   "id": "bc951054",
   "metadata": {},
   "source": [
    "## Step 5: Visualization (Optional)"
   ]
  },
  {
   "cell_type": "code",
   "execution_count": null,
   "id": "42483c31",
   "metadata": {},
   "outputs": [],
   "source": [
    "import matplotlib.pyplot as plt\n",
    "\n",
    "labels = categorized.keys()\n",
    "values = categorized.values()\n",
    "\n",
    "plt.bar(labels, values)\n",
    "plt.title(\"Categorized Word Counts in Jill Scott Lyrics\")\n",
    "plt.ylabel(\"Count\")\n",
    "plt.show()\n"
   ]
  },
  {
   "cell_type": "markdown",
   "id": "1f135426",
   "metadata": {},
   "source": [
    "## Wrap-Up\n",
    "\n",
    "This notebook showed how to:\n",
    "- Process and clean raw song lyrics\n",
    "- Count and categorize words\n",
    "- Begin interpreting creative content using simple computational tools\n",
    "\n",
    "This approach could be extended to entire albums, spoken word, or student-written reflections — useful in digital humanities, literature, and social science contexts.\n"
   ]
  }
 ],
 "metadata": {},
 "nbformat": 4,
 "nbformat_minor": 5
}
